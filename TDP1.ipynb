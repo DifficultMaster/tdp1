{
  "nbformat": 4,
  "nbformat_minor": 0,
  "metadata": {
    "colab": {
      "provenance": [],
      "gpuType": "V5E1",
      "toc_visible": true,
      "authorship_tag": "ABX9TyMLEe3RTlkUnz0VwFeZt4W7"
    },
    "kernelspec": {
      "name": "python3",
      "display_name": "Python 3"
    },
    "language_info": {
      "name": "python"
    },
    "accelerator": "TPU"
  },
  "cells": [
    {
      "cell_type": "markdown",
      "source": [
        "# **Першопочаткове налаштування**"
      ],
      "metadata": {
        "id": "J_kqhNKUIc9l"
      }
    },
    {
      "cell_type": "code",
      "execution_count": 57,
      "metadata": {
        "colab": {
          "base_uri": "https://localhost:8080/"
        },
        "id": "1ac_ZBzXibf-",
        "outputId": "bb787fa1-99a2-4c37-9473-c3505a8cd7e9"
      },
      "outputs": [
        {
          "output_type": "stream",
          "name": "stdout",
          "text": [
            "TensorFlow IS NOT using the GPU\n"
          ]
        }
      ],
      "source": [
        "import numpy as np\n",
        "import matplotlib.pyplot as plt\n",
        "import tensorflow as tf\n",
        "from tensorflow import keras\n",
        "\n",
        "if tf.config.list_physical_devices('GPU'):\n",
        "  print(\"TensorFlow IS using the GPU\")\n",
        "else:\n",
        "  print(\"TensorFlow IS NOT using the GPU\")"
      ]
    },
    {
      "cell_type": "markdown",
      "source": [
        "Налаштування було успішним, у ході експериментів використовуватиметься GPU.\n",
        "\n",
        "Перейдемо до реалізації практичного завдання лабораторної роботи, завантаживши класичний датасет для задачі класифікації зображень Fashion MNIST, що складається з зображень розміром 28*28 пікселів у сірому діапазоні кольорів.\n",
        "\n",
        "Так як цей датасет вбудований в Keras, завантажимо його одразу:"
      ],
      "metadata": {
        "id": "5B2YStZ-Ibrf"
      }
    },
    {
      "cell_type": "code",
      "source": [
        "fashion_mnist = keras.datasets.fashion_mnist\n",
        "(train_images, train_labels), (test_images, test_labels) = fashion_mnist.load_data()"
      ],
      "metadata": {
        "id": "KQwrFBciLvCs"
      },
      "execution_count": 58,
      "outputs": []
    },
    {
      "cell_type": "markdown",
      "source": [
        "Завантажені зображення є, по суті, масивами пікселів, значення кожного з пікселів варіюється від 0 до 255, включно, а значення кожного з лейблів у масивах лейблів варіюються від 0 до 9 включно, ці значення є фактичними класами, до яких нейромережа приписуватиме зображення.\n",
        "\n",
        "Так як ми хочемо отримати відносно точні результати у наслідку тренування нейромережі, одразу нормалізуємо формат даних таким чином, аби кожне значення використовуваних нейромережею масивів відповідало діапазону [0; 1].\n",
        "\n",
        "Зробити це можна, поділивши значення масивів пікселів на 255, адже це є найбільшим значенням у масивах:"
      ],
      "metadata": {
        "id": "qmRHlET9MFBx"
      }
    },
    {
      "cell_type": "code",
      "source": [
        "train_images = train_images / 255.0\n",
        "test_images = test_images / 255.0"
      ],
      "metadata": {
        "id": "IQ5RUUtsMaTQ"
      },
      "execution_count": 59,
      "outputs": []
    },
    {
      "cell_type": "markdown",
      "source": [
        "# **Побудова початкової моделі**"
      ],
      "metadata": {
        "id": "im-kMzVYNiYY"
      }
    },
    {
      "cell_type": "markdown",
      "source": [
        "Побудуємо архітектуру простої секвентальної нейромережі (Sequential API):"
      ],
      "metadata": {
        "id": "YOlXGySiOEny"
      }
    },
    {
      "cell_type": "code",
      "source": [
        "model = keras.Sequential(\n",
        "    [\n",
        "    keras.layers.Flatten(input_shape=(28, 28)),\n",
        "    keras.layers.Dense(128, activation='relu'),\n",
        "    keras.layers.Dense(10, activation='softmax')\n",
        "    ],\n",
        "    name='TDP1'\n",
        ")"
      ],
      "metadata": {
        "colab": {
          "base_uri": "https://localhost:8080/"
        },
        "id": "TwJL3MszOPyl",
        "outputId": "0355c10f-34ee-42f7-d682-b5014baee468"
      },
      "execution_count": 60,
      "outputs": [
        {
          "output_type": "stream",
          "name": "stderr",
          "text": [
            "/usr/local/lib/python3.12/dist-packages/keras/src/layers/reshaping/flatten.py:37: UserWarning: Do not pass an `input_shape`/`input_dim` argument to a layer. When using Sequential models, prefer using an `Input(shape)` object as the first layer in the model instead.\n",
            "  super().__init__(**kwargs)\n"
          ]
        }
      ]
    },
    {
      "cell_type": "markdown",
      "source": [
        "Дана модель матиме три слої:\n",
        "\n",
        "1.  Вхідний слой Flatten, за рахунок пре-процесингу якого двомірні матриці пікселів перегортаються в одномірні масиви чисел, з якими зможе працювати нейромережа;\n",
        "2.  Прихований слой Dense, який є основним обчислювальним слоєм з 128 нейронами, активаційна функція relu використовується через свою поширеність у простих задачах класифікації зображень;\n",
        "3.  Вихідний слой Dense, має 10 нейронів для кожного з класів зображень ([0; 9]), активаційна функція softmax використовується для автоматичної конвертації вихідних даних у відсоткові значення для кожного з 10 класів.\n",
        "\n"
      ],
      "metadata": {
        "id": "6SLu6iNVO-hV"
      }
    },
    {
      "cell_type": "markdown",
      "source": [
        "# **Компіляція початкової моделі**"
      ],
      "metadata": {
        "id": "YxhFHvJnP9qT"
      }
    },
    {
      "cell_type": "markdown",
      "source": [
        "Проведемо компіляцію моделі та виведемо її архітектуру:"
      ],
      "metadata": {
        "id": "ssMlPiWaSVDP"
      }
    },
    {
      "cell_type": "code",
      "source": [
        "model.compile(\n",
        "    optimizer='adam',\n",
        "    loss=keras.losses.SparseCategoricalCrossentropy(from_logits=True),\n",
        "    metrics=['accuracy']\n",
        ")"
      ],
      "metadata": {
        "id": "AD8efkliQNj7"
      },
      "execution_count": 61,
      "outputs": []
    },
    {
      "cell_type": "markdown",
      "source": [
        "У кожної мережі є три основні компіляційні параметри: функція оптимізації (optimizer), функція втрати (loss) і параметр виведення (metrics). Розглянемо вибір кожного з них:\n",
        "\n",
        "\n",
        "\n",
        "*   Optimizer: було обрано Adam, адже ця функція є найбільш поширеною для задач класифікації;\n",
        "*   Loss: було обрано Sparse Categorical Crossentropy, адже ця функція є найбільш поширеною для задач класифікації;\n",
        "*   Metrics: було обрано accuracy, адже по ходу тестування ми бажаємо бачити саме точність моделі нейромережі.\n",
        "\n"
      ],
      "metadata": {
        "id": "Ox_WYruSTOYg"
      }
    },
    {
      "cell_type": "markdown",
      "source": [
        "Виведемо підсумки зкомпільованої моделі нейромережі:"
      ],
      "metadata": {
        "id": "p2_WmRc0T3j8"
      }
    },
    {
      "cell_type": "code",
      "source": [
        "model.summary()"
      ],
      "metadata": {
        "colab": {
          "base_uri": "https://localhost:8080/",
          "height": 238
        },
        "id": "EJp11DYkT8Rw",
        "outputId": "10c20aa4-d6c7-4bf7-9956-ad411fa8418d"
      },
      "execution_count": 62,
      "outputs": [
        {
          "output_type": "display_data",
          "data": {
            "text/plain": [
              "\u001b[1mModel: \"TDP1\"\u001b[0m\n"
            ],
            "text/html": [
              "<pre style=\"white-space:pre;overflow-x:auto;line-height:normal;font-family:Menlo,'DejaVu Sans Mono',consolas,'Courier New',monospace\"><span style=\"font-weight: bold\">Model: \"TDP1\"</span>\n",
              "</pre>\n"
            ]
          },
          "metadata": {}
        },
        {
          "output_type": "display_data",
          "data": {
            "text/plain": [
              "┏━━━━━━━━━━━━━━━━━━━━━━━━━━━━━━━━━┳━━━━━━━━━━━━━━━━━━━━━━━━┳━━━━━━━━━━━━━━━┓\n",
              "┃\u001b[1m \u001b[0m\u001b[1mLayer (type)                   \u001b[0m\u001b[1m \u001b[0m┃\u001b[1m \u001b[0m\u001b[1mOutput Shape          \u001b[0m\u001b[1m \u001b[0m┃\u001b[1m \u001b[0m\u001b[1m      Param #\u001b[0m\u001b[1m \u001b[0m┃\n",
              "┡━━━━━━━━━━━━━━━━━━━━━━━━━━━━━━━━━╇━━━━━━━━━━━━━━━━━━━━━━━━╇━━━━━━━━━━━━━━━┩\n",
              "│ flatten_16 (\u001b[38;5;33mFlatten\u001b[0m)            │ (\u001b[38;5;45mNone\u001b[0m, \u001b[38;5;34m784\u001b[0m)            │             \u001b[38;5;34m0\u001b[0m │\n",
              "├─────────────────────────────────┼────────────────────────┼───────────────┤\n",
              "│ dense_44 (\u001b[38;5;33mDense\u001b[0m)                │ (\u001b[38;5;45mNone\u001b[0m, \u001b[38;5;34m128\u001b[0m)            │       \u001b[38;5;34m100,480\u001b[0m │\n",
              "├─────────────────────────────────┼────────────────────────┼───────────────┤\n",
              "│ dense_45 (\u001b[38;5;33mDense\u001b[0m)                │ (\u001b[38;5;45mNone\u001b[0m, \u001b[38;5;34m10\u001b[0m)             │         \u001b[38;5;34m1,290\u001b[0m │\n",
              "└─────────────────────────────────┴────────────────────────┴───────────────┘\n"
            ],
            "text/html": [
              "<pre style=\"white-space:pre;overflow-x:auto;line-height:normal;font-family:Menlo,'DejaVu Sans Mono',consolas,'Courier New',monospace\">┏━━━━━━━━━━━━━━━━━━━━━━━━━━━━━━━━━┳━━━━━━━━━━━━━━━━━━━━━━━━┳━━━━━━━━━━━━━━━┓\n",
              "┃<span style=\"font-weight: bold\"> Layer (type)                    </span>┃<span style=\"font-weight: bold\"> Output Shape           </span>┃<span style=\"font-weight: bold\">       Param # </span>┃\n",
              "┡━━━━━━━━━━━━━━━━━━━━━━━━━━━━━━━━━╇━━━━━━━━━━━━━━━━━━━━━━━━╇━━━━━━━━━━━━━━━┩\n",
              "│ flatten_16 (<span style=\"color: #0087ff; text-decoration-color: #0087ff\">Flatten</span>)            │ (<span style=\"color: #00d7ff; text-decoration-color: #00d7ff\">None</span>, <span style=\"color: #00af00; text-decoration-color: #00af00\">784</span>)            │             <span style=\"color: #00af00; text-decoration-color: #00af00\">0</span> │\n",
              "├─────────────────────────────────┼────────────────────────┼───────────────┤\n",
              "│ dense_44 (<span style=\"color: #0087ff; text-decoration-color: #0087ff\">Dense</span>)                │ (<span style=\"color: #00d7ff; text-decoration-color: #00d7ff\">None</span>, <span style=\"color: #00af00; text-decoration-color: #00af00\">128</span>)            │       <span style=\"color: #00af00; text-decoration-color: #00af00\">100,480</span> │\n",
              "├─────────────────────────────────┼────────────────────────┼───────────────┤\n",
              "│ dense_45 (<span style=\"color: #0087ff; text-decoration-color: #0087ff\">Dense</span>)                │ (<span style=\"color: #00d7ff; text-decoration-color: #00d7ff\">None</span>, <span style=\"color: #00af00; text-decoration-color: #00af00\">10</span>)             │         <span style=\"color: #00af00; text-decoration-color: #00af00\">1,290</span> │\n",
              "└─────────────────────────────────┴────────────────────────┴───────────────┘\n",
              "</pre>\n"
            ]
          },
          "metadata": {}
        },
        {
          "output_type": "display_data",
          "data": {
            "text/plain": [
              "\u001b[1m Total params: \u001b[0m\u001b[38;5;34m101,770\u001b[0m (397.54 KB)\n"
            ],
            "text/html": [
              "<pre style=\"white-space:pre;overflow-x:auto;line-height:normal;font-family:Menlo,'DejaVu Sans Mono',consolas,'Courier New',monospace\"><span style=\"font-weight: bold\"> Total params: </span><span style=\"color: #00af00; text-decoration-color: #00af00\">101,770</span> (397.54 KB)\n",
              "</pre>\n"
            ]
          },
          "metadata": {}
        },
        {
          "output_type": "display_data",
          "data": {
            "text/plain": [
              "\u001b[1m Trainable params: \u001b[0m\u001b[38;5;34m101,770\u001b[0m (397.54 KB)\n"
            ],
            "text/html": [
              "<pre style=\"white-space:pre;overflow-x:auto;line-height:normal;font-family:Menlo,'DejaVu Sans Mono',consolas,'Courier New',monospace\"><span style=\"font-weight: bold\"> Trainable params: </span><span style=\"color: #00af00; text-decoration-color: #00af00\">101,770</span> (397.54 KB)\n",
              "</pre>\n"
            ]
          },
          "metadata": {}
        },
        {
          "output_type": "display_data",
          "data": {
            "text/plain": [
              "\u001b[1m Non-trainable params: \u001b[0m\u001b[38;5;34m0\u001b[0m (0.00 B)\n"
            ],
            "text/html": [
              "<pre style=\"white-space:pre;overflow-x:auto;line-height:normal;font-family:Menlo,'DejaVu Sans Mono',consolas,'Courier New',monospace\"><span style=\"font-weight: bold\"> Non-trainable params: </span><span style=\"color: #00af00; text-decoration-color: #00af00\">0</span> (0.00 B)\n",
              "</pre>\n"
            ]
          },
          "metadata": {}
        }
      ]
    },
    {
      "cell_type": "markdown",
      "source": [
        "Як можемо побачити, у створеній моделі:\n",
        "\n",
        "\n",
        "1.   На першому слої: 784 (28*28) вхідних параметри, і 0 вихідних, адже слой є виключно вхідним;\n",
        "2.   На другому слої: 128 вхідних параметрів (за кількістю нейронів), і 100480 (784 * 128 + 128 зміщень за замовчуванням) вихідних параметрів;\n",
        "3. На третьому слої: 10 вхідних параметрів (за кількістю нейронів), і 1290 (128 * 10 + 10 зміщень за замовчуванням) вихідних параметрів;\n",
        "\n"
      ],
      "metadata": {
        "id": "nEM-vESMcXKn"
      }
    },
    {
      "cell_type": "markdown",
      "source": [
        "# **Тренування початкової моделі**"
      ],
      "metadata": {
        "id": "2Mpvpw9oejWs"
      }
    },
    {
      "cell_type": "markdown",
      "source": [
        "Виконаємо першопочаткове тренування моделі з 10 епохами, і виділенням 20% тренувальних даних (12000 з 60000) на валідацію, аби розміри даних для валідації (12000) та тестування (10000) були приблизно однаковими:"
      ],
      "metadata": {
        "id": "5Ud6HjhAe9PU"
      }
    },
    {
      "cell_type": "code",
      "source": [
        "history = model.fit(train_images, train_labels, epochs=10, validation_split=0.2)"
      ],
      "metadata": {
        "colab": {
          "base_uri": "https://localhost:8080/",
          "height": 567
        },
        "id": "Y_soM8Aoe5fO",
        "outputId": "c0efeb0e-36a1-4470-b8fb-6014515ab224"
      },
      "execution_count": 63,
      "outputs": [
        {
          "output_type": "stream",
          "name": "stdout",
          "text": [
            "Epoch 1/10\n"
          ]
        },
        {
          "output_type": "stream",
          "name": "stderr",
          "text": [
            "/usr/local/lib/python3.12/dist-packages/keras/src/backend/tensorflow/nn.py:717: UserWarning: \"`sparse_categorical_crossentropy` received `from_logits=True`, but the `output` argument was produced by a Softmax activation and thus does not represent logits. Was this intended?\n",
            "  output, from_logits = _get_logits(\n"
          ]
        },
        {
          "output_type": "stream",
          "name": "stdout",
          "text": [
            "\u001b[1m1500/1500\u001b[0m \u001b[32m━━━━━━━━━━━━━━━━━━━━\u001b[0m\u001b[37m\u001b[0m \u001b[1m14s\u001b[0m 8ms/step - accuracy: 0.7800 - loss: 0.6463 - val_accuracy: 0.8558 - val_loss: 0.4106\n",
            "Epoch 2/10\n",
            "\u001b[1m1500/1500\u001b[0m \u001b[32m━━━━━━━━━━━━━━━━━━━━\u001b[0m\u001b[37m\u001b[0m \u001b[1m6s\u001b[0m 4ms/step - accuracy: 0.8589 - loss: 0.3990 - val_accuracy: 0.8640 - val_loss: 0.3776\n",
            "Epoch 3/10\n",
            "\u001b[1m1500/1500\u001b[0m \u001b[32m━━━━━━━━━━━━━━━━━━━━\u001b[0m\u001b[37m\u001b[0m \u001b[1m8s\u001b[0m 6ms/step - accuracy: 0.8711 - loss: 0.3529 - val_accuracy: 0.8761 - val_loss: 0.3531\n",
            "Epoch 4/10\n",
            "\u001b[1m1500/1500\u001b[0m \u001b[32m━━━━━━━━━━━━━━━━━━━━\u001b[0m\u001b[37m\u001b[0m \u001b[1m6s\u001b[0m 4ms/step - accuracy: 0.8820 - loss: 0.3208 - val_accuracy: 0.8676 - val_loss: 0.3575\n",
            "Epoch 5/10\n",
            "\u001b[1m1500/1500\u001b[0m \u001b[32m━━━━━━━━━━━━━━━━━━━━\u001b[0m\u001b[37m\u001b[0m \u001b[1m8s\u001b[0m 6ms/step - accuracy: 0.8874 - loss: 0.3053 - val_accuracy: 0.8845 - val_loss: 0.3259\n",
            "Epoch 6/10\n",
            "\u001b[1m 205/1500\u001b[0m \u001b[32m━━\u001b[0m\u001b[37m━━━━━━━━━━━━━━━━━━\u001b[0m \u001b[1m4s\u001b[0m 4ms/step - accuracy: 0.8937 - loss: 0.2794"
          ]
        },
        {
          "output_type": "error",
          "ename": "KeyboardInterrupt",
          "evalue": "",
          "traceback": [
            "\u001b[0;31m---------------------------------------------------------------------------\u001b[0m",
            "\u001b[0;31mKeyboardInterrupt\u001b[0m                         Traceback (most recent call last)",
            "\u001b[0;32m/tmp/ipython-input-3522174406.py\u001b[0m in \u001b[0;36m<cell line: 0>\u001b[0;34m()\u001b[0m\n\u001b[0;32m----> 1\u001b[0;31m \u001b[0mhistory\u001b[0m \u001b[0;34m=\u001b[0m \u001b[0mmodel\u001b[0m\u001b[0;34m.\u001b[0m\u001b[0mfit\u001b[0m\u001b[0;34m(\u001b[0m\u001b[0mtrain_images\u001b[0m\u001b[0;34m,\u001b[0m \u001b[0mtrain_labels\u001b[0m\u001b[0;34m,\u001b[0m \u001b[0mepochs\u001b[0m\u001b[0;34m=\u001b[0m\u001b[0;36m10\u001b[0m\u001b[0;34m,\u001b[0m \u001b[0mvalidation_split\u001b[0m\u001b[0;34m=\u001b[0m\u001b[0;36m0.2\u001b[0m\u001b[0;34m)\u001b[0m\u001b[0;34m\u001b[0m\u001b[0;34m\u001b[0m\u001b[0m\n\u001b[0m",
            "\u001b[0;32m/usr/local/lib/python3.12/dist-packages/keras/src/utils/traceback_utils.py\u001b[0m in \u001b[0;36merror_handler\u001b[0;34m(*args, **kwargs)\u001b[0m\n\u001b[1;32m    115\u001b[0m         \u001b[0mfiltered_tb\u001b[0m \u001b[0;34m=\u001b[0m \u001b[0;32mNone\u001b[0m\u001b[0;34m\u001b[0m\u001b[0;34m\u001b[0m\u001b[0m\n\u001b[1;32m    116\u001b[0m         \u001b[0;32mtry\u001b[0m\u001b[0;34m:\u001b[0m\u001b[0;34m\u001b[0m\u001b[0;34m\u001b[0m\u001b[0m\n\u001b[0;32m--> 117\u001b[0;31m             \u001b[0;32mreturn\u001b[0m \u001b[0mfn\u001b[0m\u001b[0;34m(\u001b[0m\u001b[0;34m*\u001b[0m\u001b[0margs\u001b[0m\u001b[0;34m,\u001b[0m \u001b[0;34m**\u001b[0m\u001b[0mkwargs\u001b[0m\u001b[0;34m)\u001b[0m\u001b[0;34m\u001b[0m\u001b[0;34m\u001b[0m\u001b[0m\n\u001b[0m\u001b[1;32m    118\u001b[0m         \u001b[0;32mexcept\u001b[0m \u001b[0mException\u001b[0m \u001b[0;32mas\u001b[0m \u001b[0me\u001b[0m\u001b[0;34m:\u001b[0m\u001b[0;34m\u001b[0m\u001b[0;34m\u001b[0m\u001b[0m\n\u001b[1;32m    119\u001b[0m             \u001b[0mfiltered_tb\u001b[0m \u001b[0;34m=\u001b[0m \u001b[0m_process_traceback_frames\u001b[0m\u001b[0;34m(\u001b[0m\u001b[0me\u001b[0m\u001b[0;34m.\u001b[0m\u001b[0m__traceback__\u001b[0m\u001b[0;34m)\u001b[0m\u001b[0;34m\u001b[0m\u001b[0;34m\u001b[0m\u001b[0m\n",
            "\u001b[0;32m/usr/local/lib/python3.12/dist-packages/keras/src/backend/tensorflow/trainer.py\u001b[0m in \u001b[0;36mfit\u001b[0;34m(self, x, y, batch_size, epochs, verbose, callbacks, validation_split, validation_data, shuffle, class_weight, sample_weight, initial_epoch, steps_per_epoch, validation_steps, validation_batch_size, validation_freq)\u001b[0m\n\u001b[1;32m    376\u001b[0m                     \u001b[0mcallbacks\u001b[0m\u001b[0;34m.\u001b[0m\u001b[0mon_train_batch_begin\u001b[0m\u001b[0;34m(\u001b[0m\u001b[0mstep\u001b[0m\u001b[0;34m)\u001b[0m\u001b[0;34m\u001b[0m\u001b[0;34m\u001b[0m\u001b[0m\n\u001b[1;32m    377\u001b[0m                     \u001b[0mlogs\u001b[0m \u001b[0;34m=\u001b[0m \u001b[0mself\u001b[0m\u001b[0;34m.\u001b[0m\u001b[0mtrain_function\u001b[0m\u001b[0;34m(\u001b[0m\u001b[0miterator\u001b[0m\u001b[0;34m)\u001b[0m\u001b[0;34m\u001b[0m\u001b[0;34m\u001b[0m\u001b[0m\n\u001b[0;32m--> 378\u001b[0;31m                     \u001b[0mcallbacks\u001b[0m\u001b[0;34m.\u001b[0m\u001b[0mon_train_batch_end\u001b[0m\u001b[0;34m(\u001b[0m\u001b[0mstep\u001b[0m\u001b[0;34m,\u001b[0m \u001b[0mlogs\u001b[0m\u001b[0;34m)\u001b[0m\u001b[0;34m\u001b[0m\u001b[0;34m\u001b[0m\u001b[0m\n\u001b[0m\u001b[1;32m    379\u001b[0m                     \u001b[0;32mif\u001b[0m \u001b[0mself\u001b[0m\u001b[0;34m.\u001b[0m\u001b[0mstop_training\u001b[0m\u001b[0;34m:\u001b[0m\u001b[0;34m\u001b[0m\u001b[0;34m\u001b[0m\u001b[0m\n\u001b[1;32m    380\u001b[0m                         \u001b[0;32mbreak\u001b[0m\u001b[0;34m\u001b[0m\u001b[0;34m\u001b[0m\u001b[0m\n",
            "\u001b[0;32m/usr/local/lib/python3.12/dist-packages/keras/src/callbacks/callback_list.py\u001b[0m in \u001b[0;36mon_train_batch_end\u001b[0;34m(self, batch, logs)\u001b[0m\n\u001b[1;32m    166\u001b[0m             \u001b[0mself\u001b[0m\u001b[0;34m.\u001b[0m\u001b[0m_on_batch_end\u001b[0m\u001b[0;34m(\u001b[0m\u001b[0mbatch\u001b[0m\u001b[0;34m,\u001b[0m \u001b[0mlogs\u001b[0m\u001b[0;34m)\u001b[0m\u001b[0;34m\u001b[0m\u001b[0;34m\u001b[0m\u001b[0m\n\u001b[1;32m    167\u001b[0m \u001b[0;34m\u001b[0m\u001b[0m\n\u001b[0;32m--> 168\u001b[0;31m     \u001b[0;32mdef\u001b[0m \u001b[0mon_train_batch_end\u001b[0m\u001b[0;34m(\u001b[0m\u001b[0mself\u001b[0m\u001b[0;34m,\u001b[0m \u001b[0mbatch\u001b[0m\u001b[0;34m,\u001b[0m \u001b[0mlogs\u001b[0m\u001b[0;34m=\u001b[0m\u001b[0;32mNone\u001b[0m\u001b[0;34m)\u001b[0m\u001b[0;34m:\u001b[0m\u001b[0;34m\u001b[0m\u001b[0;34m\u001b[0m\u001b[0m\n\u001b[0m\u001b[1;32m    169\u001b[0m         \u001b[0;32mif\u001b[0m \u001b[0mself\u001b[0m\u001b[0;34m.\u001b[0m\u001b[0m_async_train\u001b[0m\u001b[0;34m:\u001b[0m\u001b[0;34m\u001b[0m\u001b[0;34m\u001b[0m\u001b[0m\n\u001b[1;32m    170\u001b[0m             \u001b[0mself\u001b[0m\u001b[0;34m.\u001b[0m\u001b[0m_async_dispatch\u001b[0m\u001b[0;34m(\u001b[0m\u001b[0mself\u001b[0m\u001b[0;34m.\u001b[0m\u001b[0m_on_train_batch_end\u001b[0m\u001b[0;34m,\u001b[0m \u001b[0mbatch\u001b[0m\u001b[0;34m,\u001b[0m \u001b[0mlogs\u001b[0m\u001b[0;34m)\u001b[0m\u001b[0;34m\u001b[0m\u001b[0;34m\u001b[0m\u001b[0m\n",
            "\u001b[0;31mKeyboardInterrupt\u001b[0m: "
          ]
        }
      ]
    },
    {
      "cell_type": "markdown",
      "source": [
        "Тепер, виконаємо аналіз точності моделі на тестових даних:"
      ],
      "metadata": {
        "id": "Ew0rFUHUlCRD"
      }
    },
    {
      "cell_type": "code",
      "source": [
        "print(\"--- Перевіряємо точність моделі на тестових даних ---\")\n",
        "test_loss, test_accuracy = model.evaluate(test_images, test_labels, verbose=2)\n",
        "print(\"Тестова точність:\", test_accuracy)\n",
        "print(\"Тестова помилка:\", test_loss)"
      ],
      "metadata": {
        "id": "YTtS_r9qlJ1k"
      },
      "execution_count": null,
      "outputs": []
    },
    {
      "cell_type": "markdown",
      "source": [
        "Виведемо на графіку результати тестувань, що покажуть ефективність моделі:"
      ],
      "metadata": {
        "id": "jn33SeFplS3Y"
      }
    },
    {
      "cell_type": "code",
      "source": [
        "def display_results(history, model=None, title=None):\n",
        "  name = (\n",
        "        title\n",
        "        or (getattr(model, 'name', None))\n",
        "        or (getattr(getattr(history, 'model', None), 'name', None))\n",
        "        or 'Модель'\n",
        "      )\n",
        "\n",
        "  history_dictionary = history.history\n",
        "  accuracy = history_dictionary['accuracy']\n",
        "  val_accuracy = history_dictionary['val_accuracy']\n",
        "  loss = history_dictionary['loss']\n",
        "  val_loss = history_dictionary['val_loss']\n",
        "  epochs_range = range(1, len(accuracy) + 1)\n",
        "\n",
        "  fig, axes = plt.subplots(1, 2, figsize=(12, 5))\n",
        "  fig.suptitle(f'Модель: {name}', fontsize=14, y=1.03)\n",
        "\n",
        "  plt.subplot(1, 2, 1)\n",
        "  plt.plot(epochs_range, accuracy, 'o-', color='#1f77b4', label='Точність тренування')\n",
        "  plt.plot(epochs_range, val_accuracy, '-', color='#ff7f0e', label='Точність валідації')\n",
        "  plt.title('Точність тренування і валідації')\n",
        "  plt.xlabel('Епохи')\n",
        "  plt.ylabel('Точність')\n",
        "  plt.ylim(0.5, 1.0)\n",
        "  plt.legend()\n",
        "  plt.grid(alpha=0.2)\n",
        "\n",
        "  plt.subplot(1, 2, 2)\n",
        "  plt.plot(epochs_range, loss, 'o-', color='#1f77b4', label='Помилка тренування')\n",
        "  plt.plot(epochs_range, val_loss, '-', color='#ff7f0e', label='Помилка валідації')\n",
        "  plt.title('Помилка тренування і валідації')\n",
        "  plt.xlabel('Епохи')\n",
        "  plt.ylabel('Помилка')\n",
        "  plt.ylim(0.0, 0.5)\n",
        "  plt.legend()\n",
        "  plt.grid(alpha=0.2)\n",
        "\n",
        "  fig.tight_layout(rect=[0, 0, 1, 0.95])\n",
        "  plt.show()\n"
      ],
      "metadata": {
        "id": "aB3sa4sUlYxG"
      },
      "execution_count": null,
      "outputs": []
    },
    {
      "cell_type": "code",
      "source": [
        "display_results(history)"
      ],
      "metadata": {
        "id": "wiJOGeCfwGO0"
      },
      "execution_count": null,
      "outputs": []
    },
    {
      "cell_type": "markdown",
      "source": [
        "Як можемо побачити, приблизно після 4 епох зменшується точність валідації даних, непропорційно тренувальним даним."
      ],
      "metadata": {
        "id": "HqSAOhw4pI9e"
      }
    },
    {
      "cell_type": "markdown",
      "source": [
        "Спробуємо різні оптимізації, аби побачити їхній ефект на точності моделі, але спочатку збережемо першопочаткову модель:"
      ],
      "metadata": {
        "id": "5c9_I3wrvWqt"
      }
    },
    {
      "cell_type": "code",
      "source": [
        "model.save('tdp1_model_v1.keras')\n",
        "print('\\nЗбережено модель tdp1_model_v1')"
      ],
      "metadata": {
        "id": "DN02HvLCpbAC"
      },
      "execution_count": null,
      "outputs": []
    },
    {
      "cell_type": "markdown",
      "source": [
        "# **Оптимізація місткості моделі**"
      ],
      "metadata": {
        "id": "jOYY9gi1pu5-"
      }
    },
    {
      "cell_type": "markdown",
      "source": [
        "Спочатку, аби запобігти перенавчання у будь-якому майбутньому сценаріЇ, застосуємо метод ранньої зупинки зі значенням толерантності 10:"
      ],
      "metadata": {
        "id": "HmckC-tEvPvD"
      }
    },
    {
      "cell_type": "code",
      "source": [
        "early_stopping_callback = keras.callbacks.EarlyStopping(\n",
        "    monitor='val_xent',\n",
        "    patience=10,\n",
        "    min_delta=1e-3,\n",
        "    restore_best_weights=True,\n",
        "    mode='min'\n",
        ")"
      ],
      "metadata": {
        "id": "BnfIVTcOzBir"
      },
      "execution_count": null,
      "outputs": []
    },
    {
      "cell_type": "markdown",
      "source": [
        "Застосуємо також поступове зниження швидкості навчання:"
      ],
      "metadata": {
        "id": "vdomaevL2sqO"
      }
    },
    {
      "cell_type": "code",
      "source": [
        "lr_reduction_callback = keras.callbacks.ReduceLROnPlateau(\n",
        "    monitor='val_loss',\n",
        "    factor=0.5,\n",
        "    patience=4,\n",
        "    cooldown=2,\n",
        "    min_delta=1e-3,\n",
        "    min_lr=1e-6,\n",
        "    verbose=1,\n",
        "    mode='min'\n",
        ")"
      ],
      "metadata": {
        "id": "wU3r9GCc2w0z"
      },
      "execution_count": null,
      "outputs": []
    },
    {
      "cell_type": "markdown",
      "source": [
        "Так як тестування виконуватимуться на відносно невеликому та збалансованому датасеті, звичайне використання системи збереження контрольних точок під час тренування не є обов'язковим."
      ],
      "metadata": {
        "id": "Ewc9ccdT2Cgj"
      }
    },
    {
      "cell_type": "markdown",
      "source": [
        "Натомість, застосуємо цю систему для збереження найкращої моделі під час кожного індивідуального тренування, таким чином, навіть якщо тренування буде перерване, існуватиме модель, з якої можна буде відновити тренування, і наприкінці можна буде порівняти результати такої моделі з фактичними фінальними:"
      ],
      "metadata": {
        "id": "d0KFK0w_2aha"
      }
    },
    {
      "cell_type": "code",
      "source": [
        "checkpoint_callback = keras.callbacks.ModelCheckpoint(\n",
        "    filepath='best_model_checkpoint.keras',\n",
        "    monitor='val_xent',\n",
        "    save_best_only=True,\n",
        "    mode='min',\n",
        "    verbose=1\n",
        ")"
      ],
      "metadata": {
        "id": "3pCuaEjP2CvT"
      },
      "execution_count": null,
      "outputs": []
    },
    {
      "cell_type": "markdown",
      "source": [
        "Протестуємо раніше створену модель з новими гіперпараметрами, але спочатку визначимо загальні методи:"
      ],
      "metadata": {
        "id": "8S6Po5gZp0o3"
      }
    },
    {
      "cell_type": "code",
      "source": [
        "def get_optimizer(lr=1e-3):\n",
        "  return keras.optimizers.Adam(learning_rate=lr)\n",
        "\n",
        "def compile_and_fit(model, name=None, optimizer=None, max_epochs=10000, batch_size=None):\n",
        "  if optimizer is None:\n",
        "    optimizer = get_optimizer()\n",
        "\n",
        "  model.compile(\n",
        "    optimizer=optimizer,\n",
        "    loss=keras.losses.SparseCategoricalCrossentropy(from_logits=False),\n",
        "    metrics=[\n",
        "        'accuracy',\n",
        "        keras.losses.SparseCategoricalCrossentropy(name='xent')\n",
        "            ]\n",
        "    )\n",
        "\n",
        "  model.summary()\n",
        "\n",
        "  callbacks = [early_stopping_callback, lr_reduction_callback, checkpoint_callback]\n",
        "\n",
        "  history = model.fit(\n",
        "      train_images,\n",
        "      train_labels,\n",
        "      epochs=max_epochs,\n",
        "      batch_size=batch_size,\n",
        "      validation_split=0.2,\n",
        "      callbacks=callbacks,\n",
        "      verbose=1\n",
        "      )\n",
        "  return history"
      ],
      "metadata": {
        "id": "C-6EKYGTswEu"
      },
      "execution_count": null,
      "outputs": []
    },
    {
      "cell_type": "markdown",
      "source": [
        "Застосуємо новостворені оптимізації на раніше збереженій моделі та виведемо результати:"
      ],
      "metadata": {
        "id": "pLnmDlEc6AYV"
      }
    },
    {
      "cell_type": "code",
      "source": [
        "initial_model = keras.models.load_model('tdp1_model_v1.keras')\n",
        "\n",
        "history = compile_and_fit(initial_model)\n",
        "display_results(history)"
      ],
      "metadata": {
        "id": "KsU54j3E6PfO"
      },
      "execution_count": null,
      "outputs": []
    },
    {
      "cell_type": "markdown",
      "source": [
        "Як можемо побачити, хоча запровадження зменшення швидкості навчання збільшило кількість епох з 10 до приблизно 25, результативні точність та помилка на тестових та валідаційних даних кращі."
      ],
      "metadata": {
        "id": "obvPnyoaBJov"
      }
    },
    {
      "cell_type": "markdown",
      "source": [
        "Спробуємо тепер різні за розміром архітектури (кількість шарів та нейронів) з новоствореними пасивними оптимізаціями, аби визначити найбільш оптимальний розмір моделі. Визначимо початкові архітектури:"
      ],
      "metadata": {
        "id": "jz-Tz3SpCE44"
      }
    },
    {
      "cell_type": "code",
      "source": [
        "model_tiny = keras.Sequential(\n",
        "    [\n",
        "    keras.layers.Flatten(input_shape=(28, 28)),\n",
        "    keras.layers.Dense(32, activation='relu'),\n",
        "    keras.layers.Dense(10, activation='softmax')\n",
        "    ],\n",
        "    name='TDP1_tiny'\n",
        ")\n",
        "\n",
        "model_small = keras.Sequential(\n",
        "    [\n",
        "    keras.layers.Flatten(input_shape=(28, 28)),\n",
        "    keras.layers.Dense(64, activation='relu'),\n",
        "    keras.layers.Dense(10, activation='softmax')\n",
        "    ],\n",
        "    name='TDP1_small'\n",
        ")\n",
        "\n",
        "model_medium = keras.Sequential(\n",
        "    [\n",
        "    keras.layers.Flatten(input_shape=(28, 28)),\n",
        "    keras.layers.Dense(128, activation='relu'),\n",
        "    keras.layers.Dense(64, activation='relu'),\n",
        "    keras.layers.Dense(10, activation='softmax')\n",
        "    ],\n",
        "    name='TDP1_medium'\n",
        ")\n",
        "\n",
        "model_large = keras.Sequential(\n",
        "    [\n",
        "    keras.layers.Flatten(input_shape=(28, 28)),\n",
        "    keras.layers.Dense(256, activation='relu'),\n",
        "    keras.layers.Dense(128, activation='relu'),\n",
        "    keras.layers.Dense(64, activation='relu'),\n",
        "    keras.layers.Dense(10, activation='softmax')\n",
        "    ],\n",
        "    name='TDP1_large'\n",
        ")"
      ],
      "metadata": {
        "id": "7ZVHC2XtCTpm"
      },
      "execution_count": null,
      "outputs": []
    },
    {
      "cell_type": "markdown",
      "source": [
        "Проведемо компіляцію та тренування цих моделей:"
      ],
      "metadata": {
        "id": "32Z1tyQYIizb"
      }
    },
    {
      "cell_type": "code",
      "source": [
        "size_histories = {}\n",
        "size_histories['initial'] = history\n",
        "size_histories['tiny'] = compile_and_fit(model_tiny)\n",
        "size_histories['small'] = compile_and_fit(model_small)\n",
        "size_histories['medium'] = compile_and_fit(model_medium)\n",
        "size_histories['large'] = compile_and_fit(model_large)"
      ],
      "metadata": {
        "id": "Oh2dfRflImeJ"
      },
      "execution_count": null,
      "outputs": []
    },
    {
      "cell_type": "markdown",
      "source": [
        "Виведемо результати на 4 графіки для кожної з моделей:"
      ],
      "metadata": {
        "id": "MOCUDFmLInv0"
      }
    },
    {
      "cell_type": "code",
      "source": [
        "display_results(size_histories['tiny'])\n",
        "display_results(size_histories['small'])\n",
        "display_results(size_histories['medium'])\n",
        "display_results(size_histories['large'])"
      ],
      "metadata": {
        "id": "kIlntOh7IrGm"
      },
      "execution_count": null,
      "outputs": []
    },
    {
      "cell_type": "markdown",
      "source": [
        "Додатково, порівняємо на графіку результати помилки валідації всіх моделей, аби визначити найбільш підходящу для подальшої оптимізації архітектуру:"
      ],
      "metadata": {
        "id": "e5PRH0OuIs1T"
      }
    },
    {
      "cell_type": "code",
      "source": [
        "def display_all_results(histories, value, miny=0.25, maxy=0.45, title='Порівняння', ylabel=None, epochs=30):\n",
        "  plt.figure(figsize=(10, 6))\n",
        "  for name, history in histories.items():\n",
        "    plt.plot(history.history[value], label=name)\n",
        "\n",
        "  plt.xlabel(\"Епохи\")\n",
        "  plt.ylabel(ylabel)\n",
        "  plt.title(title)\n",
        "  plt.legend()\n",
        "  plt.grid(alpha=0.2)\n",
        "  plt.xlim([0, epochs])\n",
        "  plt.ylim([miny, maxy])\n",
        "  plt.show()"
      ],
      "metadata": {
        "id": "UuJKhW4LG7K1"
      },
      "execution_count": null,
      "outputs": []
    },
    {
      "cell_type": "code",
      "source": [
        "display_all_results(size_histories, 'val_loss', miny=0.3, maxy=0.5, title='Порівняння помилки валідації', ylabel='Помилка валідації')"
      ],
      "metadata": {
        "id": "l_YtJoecei0p"
      },
      "execution_count": null,
      "outputs": []
    },
    {
      "cell_type": "markdown",
      "source": [
        "Як можемо побачити, першопочаткова модель є занадто нестабільною через один прихований слой. Розглянемо інші моделі:\n",
        "\n",
        "\n",
        "*   Крихітна модель - відбувається недонавчання, висока помилка на всіх епохах;\n",
        "*   Мала модель - хороша помилка, однак ближче до 10 епох починаться перенавчання;\n",
        "*   Середня модель - найнижча помилка протягом декількох епох, найбільш незначне перенавчання;\n",
        "*   Велика модель - очевидне перенавчання;\n",
        "\n",
        "Роблячи висновок із зображених на графіку результатів, найбільш підходящою моделлю для подальшого використання та оптимізації є середня модель. Мала модель є другим найкращим претендентом, і може буде використаною у ситуаціях де більш швидка модель є приорітетом точній моделі, але середня модель, в даному випадку, буде найбільш збалансованою, тож використаємо її.\n",
        "\n",
        "\n",
        "\n"
      ],
      "metadata": {
        "id": "AtKgOtr1QZKE"
      }
    },
    {
      "cell_type": "markdown",
      "source": [
        "Збережемо середню модель для подальших експериментів:"
      ],
      "metadata": {
        "id": "rhR8UvtMReVc"
      }
    },
    {
      "cell_type": "code",
      "source": [
        "model_medium.save('tdp1_model_v2.keras')\n",
        "print('\\nЗбережено модель tdp1_model_v2')"
      ],
      "metadata": {
        "id": "Qe13KOPdRhYk"
      },
      "execution_count": null,
      "outputs": []
    },
    {
      "cell_type": "markdown",
      "source": [
        "# **Ліквідація перенавчання моделі**"
      ],
      "metadata": {
        "id": "AfqQWyR5Roc_"
      }
    },
    {
      "cell_type": "markdown",
      "source": [
        "Спробуємо застосувати подальші оптимізації, такі як L1/L2 регуляризації та Dropout, аби забезпечити ліквідацію перенавчання і подальше збільшення точності результатів."
      ],
      "metadata": {
        "id": "85axoz2KSChM"
      }
    },
    {
      "cell_type": "markdown",
      "source": [
        "Створимо дві моделі, що базуються на щойно збереженій середній моделі, кожна з яких застосуватиме різні види регуляризації: L1, L2 та L1 + L2:"
      ],
      "metadata": {
        "id": "MHSW2riESUqZ"
      }
    },
    {
      "cell_type": "code",
      "source": [
        "model_medium_l1 = keras.Sequential(\n",
        "    [\n",
        "    keras.layers.Flatten(input_shape=(28, 28)),\n",
        "    keras.layers.Dense(128, activation='relu', kernel_regularizer=keras.regularizers.l1(1e-5)),\n",
        "    keras.layers.Dense(64, activation='relu', kernel_regularizer=keras.regularizers.l1(1e-5)),\n",
        "    keras.layers.Dense(10, activation='softmax')\n",
        "    ],\n",
        "    name='TDP1_medium_l1'\n",
        ")\n",
        "\n",
        "model_medium_l2 = keras.Sequential(\n",
        "    [\n",
        "    keras.layers.Flatten(input_shape=(28, 28)),\n",
        "    keras.layers.Dense(128, activation='relu', kernel_regularizer=keras.regularizers.l2(1e-4)),\n",
        "    keras.layers.Dense(64, activation='relu', kernel_regularizer=keras.regularizers.l2(1e-4)),\n",
        "    keras.layers.Dense(10, activation='softmax')\n",
        "    ],\n",
        "    name='TDP1_medium_l2'\n",
        ")\n",
        "\n",
        "model_medium_l1l2 = keras.Sequential(\n",
        "    [\n",
        "    keras.layers.Flatten(input_shape=(28, 28)),\n",
        "    keras.layers.Dense(128, activation='relu', kernel_regularizer=keras.regularizers.l1_l2(l1=1e-5, l2=1e-4)),\n",
        "    keras.layers.Dense(64, activation='relu', kernel_regularizer=keras.regularizers.l1_l2(l1=1e-5, l2=1e-4)),\n",
        "    keras.layers.Dense(10, activation='softmax')\n",
        "    ],\n",
        "    name='TDP1_medium_l1l2'\n",
        ")"
      ],
      "metadata": {
        "id": "oAltGI08cYpm"
      },
      "execution_count": null,
      "outputs": []
    },
    {
      "cell_type": "markdown",
      "source": [
        "Виконаємо компіляцію та тестування нових моделей для порівняння результатів з оригіналом:"
      ],
      "metadata": {
        "id": "wz86RLLEdXpd"
      }
    },
    {
      "cell_type": "code",
      "source": [
        "initial_model = keras.models.load_model('tdp1_model_v2.keras')\n",
        "\n",
        "optimization_histories = {}\n",
        "optimization_histories['initial'] = size_histories['medium']\n",
        "optimization_histories['l1'] = compile_and_fit(model_medium_l1)\n",
        "optimization_histories['l2'] = compile_and_fit(model_medium_l2)\n",
        "optimization_histories['l1l2'] = compile_and_fit(model_medium_l1l2)"
      ],
      "metadata": {
        "id": "sZy9tpaVdWru",
        "collapsed": true
      },
      "execution_count": null,
      "outputs": []
    },
    {
      "cell_type": "markdown",
      "source": [
        "Виведемо на 3 графіках результати для кожної з нових моделей:"
      ],
      "metadata": {
        "id": "XWbwy51TeWeJ"
      }
    },
    {
      "cell_type": "code",
      "source": [
        "display_results(optimization_histories['l1'])\n",
        "display_results(optimization_histories['l2'])\n",
        "display_results(optimization_histories['l1l2'])"
      ],
      "metadata": {
        "id": "jtaA6a5sescu"
      },
      "execution_count": null,
      "outputs": []
    },
    {
      "cell_type": "markdown",
      "source": [
        "Виведемо результати фактичної помилки валідаційних даних всіх моделей для порівняння і визначення ефективності оптимізаційних методів, з урахуванням регуляризаційних штрафів:"
      ],
      "metadata": {
        "id": "hIRjU6A8emms"
      }
    },
    {
      "cell_type": "code",
      "source": [
        "display_all_results(optimization_histories, 'val_xent', miny=0.28, title='Порівняння фактичної помилки валідації', ylabel='Фактична помилка валідації')"
      ],
      "metadata": {
        "id": "VQdD1Qc9ec6Z"
      },
      "execution_count": null,
      "outputs": []
    },
    {
      "cell_type": "markdown",
      "source": [
        "Для додаткової наглядності та остаточного рішення, виведемо точність валідаційних даних всіх моделей:"
      ],
      "metadata": {
        "id": "TedoxLLmk-pD"
      }
    },
    {
      "cell_type": "code",
      "source": [
        "display_all_results(optimization_histories, 'val_accuracy', miny=0.84, maxy=0.91, title='Порівняння точності валідації', ylabel='Точність валідації')"
      ],
      "metadata": {
        "id": "v1A6TH8XlFLv"
      },
      "execution_count": null,
      "outputs": []
    },
    {
      "cell_type": "markdown",
      "source": [
        "Як результат тестувань, встановимо 0.00001, як значення параметрeа L1 та 0.0001, як значення параметра L2, вони є найбільш ідеальними для конкретно цієї тестової вибірки."
      ],
      "metadata": {
        "id": "CP4aZR0z7vJQ"
      }
    },
    {
      "cell_type": "markdown",
      "source": [
        "У висновку, можемо побачити, що:\n",
        "\n",
        "\n",
        "*   Без регуляризації: нестабільна точність та перенавчання даними;\n",
        "*   Регуляризація L1: ліквідація перенавчання, однак гірші результати за відсутність регуляризації та гірша стабільність;\n",
        "*   Регуляризація L2: ліквідація перенавчання, задовільні результати та задовільна стабільність;\n",
        "*   Регуляризація L1 + L2: ліквідація перенавчання, кращі результати за відсутність регуляризації та найкраща стабільність.\n",
        "\n",
        "Як результат, оберемо регуляризацію L1 + L2 і продовжимо оптимізацію.\n",
        "\n",
        "\n",
        "\n"
      ],
      "metadata": {
        "id": "w4hyQ5bslTKJ"
      }
    },
    {
      "cell_type": "markdown",
      "source": [
        "Збережемо найкращу модель як основну:"
      ],
      "metadata": {
        "id": "WpKeX9FT9MzX"
      }
    },
    {
      "cell_type": "code",
      "source": [
        "model_medium_l1l2.save('tdp1_model_v3.keras')\n",
        "print('\\nЗбережено модель tdp1_model_v3')"
      ],
      "metadata": {
        "id": "OCy3e-MK9PQL"
      },
      "execution_count": null,
      "outputs": []
    },
    {
      "cell_type": "markdown",
      "source": [
        "Додамо Dropout як фінальний метод оптимізації. Створимо три нові моделі, аби знайти найбільш оптимальне значення Dropout - моделі міститимуть слої Dropout зі значеннями 0.2, 0.35 і 0.5, відповідно:"
      ],
      "metadata": {
        "id": "7QK3PdnH9m4X"
      }
    },
    {
      "cell_type": "code",
      "source": [
        "model_medium_l1l2_dropout02 = keras.Sequential(\n",
        "    [\n",
        "    keras.layers.Flatten(input_shape=(28, 28)),\n",
        "    keras.layers.Dense(128, activation='relu', kernel_regularizer=keras.regularizers.l1_l2(l1=1e-5, l2=1e-4)),\n",
        "    keras.layers.Dropout(0.20),\n",
        "    keras.layers.Dense(64, activation='relu', kernel_regularizer=keras.regularizers.l1_l2(l1=1e-5, l2=1e-4)),\n",
        "    keras.layers.Dropout(0.20),\n",
        "    keras.layers.Dense(10, activation='softmax')\n",
        "    ],\n",
        "    name='TDP1_medium_l1l2_dropout0.2'\n",
        ")\n",
        "\n",
        "model_medium_l1l2_dropout035 = keras.Sequential(\n",
        "    [\n",
        "    keras.layers.Flatten(input_shape=(28, 28)),\n",
        "    keras.layers.Dense(128, activation='relu', kernel_regularizer=keras.regularizers.l1_l2(l1=1e-5, l2=1e-4)),\n",
        "    keras.layers.Dropout(0.35),\n",
        "    keras.layers.Dense(64, activation='relu', kernel_regularizer=keras.regularizers.l1_l2(l1=1e-5, l2=1e-4)),\n",
        "    keras.layers.Dropout(0.35),\n",
        "    keras.layers.Dense(10, activation='softmax')\n",
        "    ],\n",
        "    name='TDP1_medium_l1l2_dropout0.35'\n",
        ")\n",
        "\n",
        "model_medium_l1l2_dropout05 = keras.Sequential(\n",
        "    [\n",
        "    keras.layers.Flatten(input_shape=(28, 28)),\n",
        "    keras.layers.Dense(128, activation='relu', kernel_regularizer=keras.regularizers.l1_l2(l1=1e-5, l2=1e-4)),\n",
        "    keras.layers.Dropout(0.5),\n",
        "    keras.layers.Dense(64, activation='relu', kernel_regularizer=keras.regularizers.l1_l2(l1=1e-5, l2=1e-4)),\n",
        "    keras.layers.Dropout(0.5),\n",
        "    keras.layers.Dense(10, activation='softmax')\n",
        "    ],\n",
        "    name='TDP1_medium_l1l2_dropout0.5'\n",
        ")"
      ],
      "metadata": {
        "id": "biiNGOo8BwKQ"
      },
      "execution_count": null,
      "outputs": []
    },
    {
      "cell_type": "markdown",
      "source": [
        "Виконаємо компіляцію та тестування нових моделей для визначення найкращого значення Dropout:"
      ],
      "metadata": {
        "id": "jdpYjqSXCk8Z"
      }
    },
    {
      "cell_type": "code",
      "source": [
        "initial_model = keras.models.load_model('tdp1_model_v3.keras')\n",
        "\n",
        "dropout_histories = {}\n",
        "dropout_histories['initial'] = optimization_histories['l1l2']\n",
        "dropout_histories['d0.2'] = compile_and_fit(model_medium_l1l2_dropout02)\n",
        "dropout_histories['d0.35'] = compile_and_fit(model_medium_l1l2_dropout035)\n",
        "dropout_histories['d0.5'] = compile_and_fit(model_medium_l1l2_dropout05)"
      ],
      "metadata": {
        "collapsed": true,
        "id": "IXY8bz-iCsuR"
      },
      "execution_count": null,
      "outputs": []
    },
    {
      "cell_type": "markdown",
      "source": [
        "Виведемо на 3 різні графіки результати тестувань та валідації кожної з нових моделей:"
      ],
      "metadata": {
        "id": "TvQN3skODHpm"
      }
    },
    {
      "cell_type": "code",
      "source": [
        "display_results(dropout_histories['d0.2'])\n",
        "display_results(dropout_histories['d0.35'])\n",
        "display_results(dropout_histories['d0.5'])"
      ],
      "metadata": {
        "id": "Gx6kpZJyDMeT"
      },
      "execution_count": null,
      "outputs": []
    },
    {
      "cell_type": "markdown",
      "source": [
        "Виведемо результати фактичної помилки всіх моделей для порівняння ефективності різних значень Dropout на одному графіку:"
      ],
      "metadata": {
        "id": "yJr6iPr3EK4s"
      }
    },
    {
      "cell_type": "code",
      "source": [
        "display_all_results(dropout_histories, 'val_xent', miny=0.28,\n",
        "                    title='Порівняння фактичної помилки валідації', ylabel='Фактична помилка валідації',\n",
        "                    epochs=75)"
      ],
      "metadata": {
        "id": "nSCR--jbELQ3"
      },
      "execution_count": null,
      "outputs": []
    },
    {
      "cell_type": "markdown",
      "source": [
        "Можемо побачити, що найкращим серед обраних значень значенням Dropout є 0.2, тож застосуємо його і збережемо цю версію моделі:"
      ],
      "metadata": {
        "id": "yTjjjb2yEcB2"
      }
    },
    {
      "cell_type": "code",
      "source": [
        "model_medium_l1l2_dropout02.save('tdp1_model_v4.keras')\n",
        "print('\\nЗбережено модель tdp1_model_v4')"
      ],
      "metadata": {
        "id": "n7-mXB4UEklQ"
      },
      "execution_count": null,
      "outputs": []
    },
    {
      "cell_type": "markdown",
      "source": [
        "Нарешті, налаштуємо розмір батчу шляхом порівняння різних значень параметра:"
      ],
      "metadata": {
        "id": "wuhCTahNEk68"
      }
    },
    {
      "cell_type": "code",
      "source": [
        "initial_model = keras.models.load_model('tdp1_model_v4.keras')\n",
        "model_b16 = initial_model\n",
        "model_b32 = initial_model\n",
        "model_b64 = initial_model\n",
        "model_b128 = initial_model\n",
        "\n",
        "batchsize_histories = {}\n",
        "batchsize_histories['initial'] = dropout_histories['d0.2']\n",
        "batchsize_histories['b16'] = compile_and_fit(model_b16, batch_size=16)\n",
        "batchsize_histories['b32'] = compile_and_fit(model_b32, batch_size=32)\n",
        "batchsize_histories['b64'] = compile_and_fit(model_b64, batch_size=64)\n",
        "batchsize_histories['b128'] = compile_and_fit(model_b128, batch_size=128)"
      ],
      "metadata": {
        "id": "28_v8v2REvsR"
      },
      "execution_count": null,
      "outputs": []
    },
    {
      "cell_type": "markdown",
      "source": [
        "Виведемо результати валідаційних фактичної помилки та точності на два графіки:"
      ],
      "metadata": {
        "id": "i-s5cJLGEx8m"
      }
    },
    {
      "cell_type": "code",
      "source": [
        "display_all_results(batchsize_histories, 'val_xent', miny=0.28,\n",
        "                    title='Порівняння фактичної помилки валідації', ylabel='Фактична помилка валідації',\n",
        "                    epochs=40)"
      ],
      "metadata": {
        "id": "Fdn1JRPvIl1A"
      },
      "execution_count": null,
      "outputs": []
    },
    {
      "cell_type": "code",
      "source": [
        "display_all_results(batchsize_histories, 'val_accuracy', miny=0.84, maxy=0.91,\n",
        "                    title='Порівняння точності валідації', ylabel='Точність валідації',\n",
        "                    epochs=40)"
      ],
      "metadata": {
        "id": "s0VwouNOIobL"
      },
      "execution_count": null,
      "outputs": []
    },
    {
      "cell_type": "markdown",
      "source": [
        "Як можемо побачити, розміри батчу в 16 і 32 мають значно кращі результати за розмір за замовчуванням, однак розмір батчу в 32 має кращу швидкість за нижчі розміри, тож оберемо саме його."
      ],
      "metadata": {
        "id": "EYj-Js60XbpX"
      }
    },
    {
      "cell_type": "markdown",
      "source": [
        "Так як архітектура моделі залишилася незмінною, збережемо лише нові гіперпараметри, окремо:"
      ],
      "metadata": {
        "id": "o8hJAbEKI9Cq"
      }
    },
    {
      "cell_type": "code",
      "source": [
        "model_b32.save_weights('tdp1_model_v4.weights.h5')\n",
        "print('\\nЗбережено вагові коефіцієнти моделі tdp1_model_v4')"
      ],
      "metadata": {
        "id": "A7z7bnZUJAJg"
      },
      "execution_count": null,
      "outputs": []
    },
    {
      "cell_type": "markdown",
      "source": [
        "Нарешті, протестуємо налаштовану та оптимізовану модель на реальних тестових даних:"
      ],
      "metadata": {
        "id": "8_PVIACxJAT3"
      }
    },
    {
      "cell_type": "code",
      "source": [
        "final_model = keras.Sequential(\n",
        "    [\n",
        "    keras.layers.Flatten(input_shape=(28, 28)),\n",
        "    keras.layers.Dense(128, activation='relu', kernel_regularizer=keras.regularizers.l1_l2(l1=1e-5, l2=1e-4)),\n",
        "    keras.layers.Dropout(0.20),\n",
        "    keras.layers.Dense(64, activation='relu', kernel_regularizer=keras.regularizers.l1_l2(l1=1e-5, l2=1e-4)),\n",
        "    keras.layers.Dropout(0.20),\n",
        "    keras.layers.Dense(10, activation='softmax')\n",
        "    ]\n",
        ")\n",
        "final_model.load_weights('tdp1_model_v4.weights.h5')"
      ],
      "metadata": {
        "id": "LXItO088JE73"
      },
      "execution_count": null,
      "outputs": []
    },
    {
      "cell_type": "code",
      "source": [
        "print(\"\\n--- Перевіряємо точність фінальної моделі на тестових даних ---\")\n",
        "\n",
        "final_test_loss, final_test_accuracy = final_model.evaluate(test_images, test_labels, verbose=2)\n",
        "\n",
        "print(\"\\nФінальна тестова точність:\", final_test_accuracy)\n",
        "print(\"Фінальна тестова помилка:\", final_test_loss)"
      ],
      "metadata": {
        "id": "7G9Fcb2f3xq2"
      },
      "execution_count": null,
      "outputs": []
    },
    {
      "cell_type": "code",
      "source": [
        "best_checkpoint_model = keras.models.load_model('best_model_checkpoint.keras')\n",
        "\n",
        "print(\"\\n--- Перевіряємо точність автоматично збереженої найкращої моделі на тестових даних ---\")\n",
        "\n",
        "checkpoint_test_loss, checkpoint_test_accuracy = best_checkpoint_model.evaluate(test_images, test_labels, verbose=2)\n",
        "\n",
        "print(\"\\nТочність найкращої моделі з чекпоінту:\", checkpoint_test_accuracy)\n",
        "print(\"Помилка найкращої моделі з чекпоінту:\", checkpoint_test_loss)"
      ],
      "metadata": {
        "id": "9zpxG3Kl3yGK"
      },
      "execution_count": null,
      "outputs": []
    },
    {
      "cell_type": "code",
      "source": [
        "if final_test_accuracy >= checkpoint_test_accuracy:\n",
        "    best_model_accuracy = final_test_accuracy\n",
        "    best_model_loss = final_test_loss\n",
        "    best_model_name = \"фінальна модель\"\n",
        "else:\n",
        "    best_model_accuracy = checkpoint_test_accuracy\n",
        "    best_model_loss = checkpoint_test_loss\n",
        "    best_model_name = \"найкраща модель з чекпоінту\"\n",
        "\n",
        "print(f\"\\nВибрано {best_model_name} для порівняння з початковою моделлю.\")\n",
        "\n",
        "accuracy_improvement = ((best_model_accuracy - test_accuracy) / test_accuracy) * 100\n",
        "loss_reduction = ((test_loss - best_model_loss) / test_loss) * 100\n",
        "\n",
        "print(\"Покращення тестової точності: {:.2f}%\".format(accuracy_improvement))\n",
        "print(\"Покращення тестової помилки: {:.2f}%\".format(loss_reduction))"
      ],
      "metadata": {
        "id": "bexqdJE-3zcG"
      },
      "execution_count": null,
      "outputs": []
    },
    {
      "cell_type": "markdown",
      "source": [
        "Можемо побачити покращення результатів як точності, так і помилки моделі. Як наслідок, створено та оптимізовану просту модель для задачі класифікації рівномірно розподілених по класах зображень."
      ],
      "metadata": {
        "id": "aiZjeSyMJ4Bi"
      }
    }
  ]
}