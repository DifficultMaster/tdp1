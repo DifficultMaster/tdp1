{
  "nbformat": 4,
  "nbformat_minor": 0,
  "metadata": {
    "colab": {
      "provenance": [],
      "authorship_tag": "ABX9TyO+I8w1R5yHeU/NlT++Kzh0"
    },
    "kernelspec": {
      "name": "python3",
      "display_name": "Python 3"
    },
    "language_info": {
      "name": "python"
    }
  },
  "cells": [
    {
      "cell_type": "markdown",
      "source": [
        "# **Першопочаткове налаштування**"
      ],
      "metadata": {
        "id": "J_kqhNKUIc9l"
      }
    },
    {
      "cell_type": "code",
      "execution_count": 3,
      "metadata": {
        "colab": {
          "base_uri": "https://localhost:8080/"
        },
        "id": "1ac_ZBzXibf-",
        "outputId": "a1410722-d5a2-4077-9b95-2c14c89c036c"
      },
      "outputs": [
        {
          "output_type": "stream",
          "name": "stdout",
          "text": [
            "TensorFlow IS NOT using the GPU\n"
          ]
        }
      ],
      "source": [
        "import numpy as np\n",
        "import matplotlib.pyplot as plt\n",
        "import tensorflow as tf\n",
        "from tensorflow import keras\n",
        "\n",
        "if tf.config.list_physical_devices('GPU'):\n",
        "  print(\"TensorFlow IS using the GPU\")\n",
        "else:\n",
        "  print(\"TensorFlow IS NOT using the GPU\")"
      ]
    },
    {
      "cell_type": "markdown",
      "source": [
        "Налаштування було успішним, у ході експериментів використовуватиметься GPU.\n",
        "\n",
        "Перейдемо до реалізації практичного завдання лабораторної роботи, завантаживши класичний датасет для задачі класифікації зображень Fashion MNIST, що складається з зображень розміром 28*28 пікселів у сірому діапазоні кольорів.\n",
        "\n",
        "Так як цей датасет вбудований в Keras, завантажимо його одразу:"
      ],
      "metadata": {
        "id": "5B2YStZ-Ibrf"
      }
    },
    {
      "cell_type": "code",
      "source": [
        "fashion_mnist = keras.datasets.fashion_mnist\n",
        "(train_images, train_labels), (test_images, test_labels) = fashion_mnist.load_data()"
      ],
      "metadata": {
        "id": "KQwrFBciLvCs"
      },
      "execution_count": null,
      "outputs": []
    },
    {
      "cell_type": "markdown",
      "source": [
        "Завантажені зображення є, по суті, масивами пікселів, значення кожного з пікселів варіюється від 0 до 255, включно, а значення кожного з лейблів у масивах лейблів варіюються від 0 до 9 включно, ці значення є фактичними класами, до яких нейромережа приписуватиме зображення.\n",
        "\n",
        "Так як ми хочемо отримати відносно точні результати у наслідку тренування нейромережі, одразу нормалізуємо формат даних таким чином, аби кожне значення використовуваних нейромережею масивів відповідало діапазону [0; 1].\n",
        "\n",
        "Зробити це можна, поділивши значення масивів пікселів на 255, адже це є найбільшим значенням у масивах:"
      ],
      "metadata": {
        "id": "qmRHlET9MFBx"
      }
    },
    {
      "cell_type": "code",
      "source": [
        "train_images = train_images / 255.0\n",
        "test_images = test_images / 255.0"
      ],
      "metadata": {
        "id": "IQ5RUUtsMaTQ"
      },
      "execution_count": null,
      "outputs": []
    },
    {
      "cell_type": "markdown",
      "source": [
        "# **Побудова нейромережі**"
      ],
      "metadata": {
        "id": "im-kMzVYNiYY"
      }
    },
    {
      "cell_type": "markdown",
      "source": [
        "Побудуємо секвентальну нейромережу (Sequential API):"
      ],
      "metadata": {
        "id": "YOlXGySiOEny"
      }
    },
    {
      "cell_type": "code",
      "source": [
        "model = keras.Sequential([\n",
        "    keras.layers.Flatten(input_shape=(28, 28)),\n",
        "    keras.layers.Dense(128, activation='relu'),\n",
        "    keras.layers.Dense(10, activation='softmax')\n",
        "])"
      ],
      "metadata": {
        "id": "TwJL3MszOPyl"
      },
      "execution_count": null,
      "outputs": []
    },
    {
      "cell_type": "markdown",
      "source": [
        "Дана модель матиме три слої:\n",
        "\n",
        "1.  Вхідний слой Flatten, за рахунок пре-процесингу якого двомірні матриці пікселів перегортаються в одномірні масиви чисел, з якими зможе працювати нейромережа;\n",
        "2.  Прихований слой Dense, який є основним обчислювальним слоєм з 128 нейронами, активаційна функція relu використовується через свою поширеність у простих задачах класифікації зображень;\n",
        "3.  Вихідний слой Dense, має 10 нейронів для кожного з класів зображень ([0; 9]), активаційна функція softmax використовується для автоматичної конвертації вихідних даних у відсоткові значення для кожного з 10 класів.\n",
        "\n"
      ],
      "metadata": {
        "id": "6SLu6iNVO-hV"
      }
    },
    {
      "cell_type": "markdown",
      "source": [
        "# **Конфігурація моделі**"
      ],
      "metadata": {
        "id": "YxhFHvJnP9qT"
      }
    },
    {
      "cell_type": "code",
      "source": [],
      "metadata": {
        "id": "AD8efkliQNj7"
      },
      "execution_count": null,
      "outputs": []
    }
  ]
}